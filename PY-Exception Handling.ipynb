{
 "cells": [
  {
   "cell_type": "markdown",
   "metadata": {},
   "source": [
    "#### Write a function to compute 5/0 and use try/except to catch the exceptions."
   ]
  },
  {
   "cell_type": "code",
   "execution_count": 3,
   "metadata": {},
   "outputs": [
    {
     "name": "stdout",
     "output_type": "stream",
     "text": [
      "5\n"
     ]
    },
    {
     "data": {
      "text/plain": [
       "'Division by zero gives infinity!'"
      ]
     },
     "execution_count": 3,
     "metadata": {},
     "output_type": "execute_result"
    }
   ],
   "source": [
    "a = int(input())\n",
    "def exception(a):\n",
    "    try:\n",
    "        x = a/0\n",
    "    except ZeroDivisionError as z:\n",
    "        return f\"Division by zero gives infinity!\"\n",
    "exception(a)"
   ]
  },
  {
   "cell_type": "code",
   "execution_count": 20,
   "metadata": {},
   "outputs": [
    {
     "name": "stdout",
     "output_type": "stream",
     "text": [
      "Enter three number for elements in Subject Verbs and Objects: 2 2 2\n",
      "Subject: American\n",
      "Subject: Indain\n",
      "Verbs: Play\n",
      "Verbs: Watch\n",
      "Object: Baseball\n",
      "Object: Cricket\n",
      "\n",
      "American Play Baseball\n",
      "American Play Cricket\n",
      "American Watch Baseball\n",
      "American Watch Cricket\n",
      "Indain Play Baseball\n",
      "Indain Play Cricket\n",
      "Indain Watch Baseball\n",
      "Indain Watch Cricket\n"
     ]
    }
   ],
   "source": [
    "a = input('Enter three number for elements in Subject Verbs and Objects: ').split(' ')\n",
    "subject = []\n",
    "verbs = []\n",
    "objects = []\n",
    "for i in range(1):\n",
    "    for i in range(int(a[0])):\n",
    "        sub = input('Subject: ')\n",
    "        subject.append(sub)\n",
    "\n",
    "    #print(f'Subject {subject}')\n",
    "\n",
    "\n",
    "    for i in range(int(a[1])):\n",
    "        ver = input('Verbs: ')\n",
    "        verbs.append(ver) \n",
    "    #print(f'Verb {verbs}')\n",
    "\n",
    "\n",
    "    for i in range(int(a[2])):\n",
    "        obj = input('Object: ')\n",
    "        objects.append(obj) \n",
    "\n",
    "    #print(f'Objects {objects}')\n",
    "\n",
    "\n",
    "\n",
    "sent = [s +\" \"+ v+ \" \" + o for s in subject for v in verbs for o in objects]\n",
    "print()\n",
    "for i in sent:\n",
    "    print(i)"
   ]
  },
  {
   "cell_type": "code",
   "execution_count": null,
   "metadata": {},
   "outputs": [],
   "source": []
  }
 ],
 "metadata": {
  "kernelspec": {
   "display_name": "Python 3",
   "language": "python",
   "name": "python3"
  },
  "language_info": {
   "codemirror_mode": {
    "name": "ipython",
    "version": 3
   },
   "file_extension": ".py",
   "mimetype": "text/x-python",
   "name": "python",
   "nbconvert_exporter": "python",
   "pygments_lexer": "ipython3",
   "version": "3.7.7"
  },
  "toc": {
   "base_numbering": 1,
   "nav_menu": {},
   "number_sections": true,
   "sideBar": true,
   "skip_h1_title": false,
   "title_cell": "Table of Contents",
   "title_sidebar": "Contents",
   "toc_cell": false,
   "toc_position": {},
   "toc_section_display": true,
   "toc_window_display": false
  }
 },
 "nbformat": 4,
 "nbformat_minor": 4
}
